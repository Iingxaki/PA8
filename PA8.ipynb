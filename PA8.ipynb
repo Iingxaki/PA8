{
 "cells": [
  {
   "cell_type": "markdown",
   "id": "e1558248",
   "metadata": {},
   "source": [
    "# PA8, Radjamin Hukom, V1, Spring 2023"
   ]
  },
  {
   "cell_type": "markdown",
   "id": "d3509f49",
   "metadata": {},
   "source": [
    "## A."
   ]
  },
  {
   "cell_type": "code",
   "execution_count": 5,
   "id": "ca71b4b2",
   "metadata": {},
   "outputs": [
    {
     "data": {
      "text/plain": [
       "array([[10, 20],\n",
       "       [30, 40]])"
      ]
     },
     "execution_count": 5,
     "metadata": {},
     "output_type": "execute_result"
    }
   ],
   "source": [
    "import numpy as np\n",
    "l1 = [10,20,30,40]\n",
    "x1 = np.array(l1)\n",
    "x1.resize(2,2)\n",
    "x1"
   ]
  },
  {
   "cell_type": "code",
   "execution_count": 6,
   "id": "068887b7",
   "metadata": {},
   "outputs": [
    {
     "data": {
      "text/plain": [
       "array([[110, 120],\n",
       "       [130, 140]])"
      ]
     },
     "execution_count": 6,
     "metadata": {},
     "output_type": "execute_result"
    }
   ],
   "source": [
    "x2 = np.add(x1,100)\n",
    "x2"
   ]
  },
  {
   "cell_type": "code",
   "execution_count": 7,
   "id": "66b3d0d8",
   "metadata": {},
   "outputs": [
    {
     "data": {
      "text/plain": [
       "array([[ 50, 100],\n",
       "       [150, 200]])"
      ]
     },
     "execution_count": 7,
     "metadata": {},
     "output_type": "execute_result"
    }
   ],
   "source": [
    "x3 = np.multiply(x1,5)\n",
    "x3"
   ]
  },
  {
   "cell_type": "code",
   "execution_count": 9,
   "id": "a5394148",
   "metadata": {},
   "outputs": [
    {
     "data": {
      "text/plain": [
       "array([[3.16227766, 4.47213595],\n",
       "       [5.47722558, 6.32455532]])"
      ]
     },
     "execution_count": 9,
     "metadata": {},
     "output_type": "execute_result"
    }
   ],
   "source": [
    "x4= np.sqrt(x1)\n",
    "x4"
   ]
  },
  {
   "cell_type": "markdown",
   "id": "9c44b51d",
   "metadata": {},
   "source": [
    "### OR"
   ]
  },
  {
   "cell_type": "code",
   "execution_count": 11,
   "id": "a990d1e1",
   "metadata": {},
   "outputs": [
    {
     "name": "stdout",
     "output_type": "stream",
     "text": [
      "1. [[110 120]\n",
      " [130 140]]\n",
      "2. [[550 600]\n",
      " [650 700]]\n",
      "3. [[23.4520788  24.49489743]\n",
      " [25.49509757 26.45751311]]\n"
     ]
    }
   ],
   "source": [
    "x5= np.add(x1,100)\n",
    "print(\"1.\",x5)\n",
    "x5= np.multiply(x5,5)\n",
    "print(\"2.\",x5)\n",
    "x5= np.sqrt(x5)\n",
    "print(\"3.\",x5)"
   ]
  },
  {
   "cell_type": "markdown",
   "id": "4bfe476f",
   "metadata": {},
   "source": [
    "## B"
   ]
  },
  {
   "cell_type": "code",
   "execution_count": 18,
   "id": "c1770812",
   "metadata": {},
   "outputs": [
    {
     "name": "stdout",
     "output_type": "stream",
     "text": [
      "[[ 3  6  9]\n",
      " [12 15 18]\n",
      " [21 24 27]]\n",
      "[[10.         11.11111111 12.22222222]\n",
      " [13.33333333 14.44444444 15.55555556]\n",
      " [16.66666667 17.77777778 18.88888889]]\n"
     ]
    }
   ],
   "source": [
    "x6= np.arange(3,30,3)\n",
    "x6.resize(3,3)\n",
    "print(x6)\n",
    "x7= np.arange(10,20,10/9)\n",
    "x7.resize(3,3)\n",
    "print(x7)"
   ]
  },
  {
   "cell_type": "code",
   "execution_count": 20,
   "id": "55005bce",
   "metadata": {},
   "outputs": [
    {
     "name": "stdout",
     "output_type": "stream",
     "text": [
      "[[ 30.          66.66666667 110.        ]\n",
      " [160.         216.66666667 280.        ]\n",
      " [350.         426.66666667 510.        ]]\n"
     ]
    }
   ],
   "source": [
    "x8=np.multiply(x6,x7)\n",
    "print(x8)"
   ]
  },
  {
   "cell_type": "markdown",
   "id": "facaf8f7",
   "metadata": {},
   "source": [
    "## C"
   ]
  },
  {
   "cell_type": "code",
   "execution_count": 21,
   "id": "c9e1b5cd",
   "metadata": {},
   "outputs": [],
   "source": [
    "x08=np.load('process1.npy')\n",
    "x09=np.load('process2.npy')\n",
    "x10=np.load('process3.npy')\n",
    "x11=np.load('process4.npy')\n",
    "x12=np.load('process5.npy')"
   ]
  },
  {
   "cell_type": "code",
   "execution_count": 22,
   "id": "eb56df52",
   "metadata": {},
   "outputs": [],
   "source": [
    "array1=np.vstack([x08,x09,x10,x11,x12])"
   ]
  },
  {
   "cell_type": "code",
   "execution_count": 26,
   "id": "19980d57",
   "metadata": {},
   "outputs": [
    {
     "name": "stdout",
     "output_type": "stream",
     "text": [
      "[[52 12 81  0 58]\n",
      " [96  4 61 16 43]\n",
      " [38 96 45 17 58]\n",
      " [97 21 22 25  6]\n",
      " [77  6 19  2 74]]\n",
      "72.0\n",
      "27.8\n",
      "45.6\n",
      "12.0\n",
      "47.8\n"
     ]
    }
   ],
   "source": [
    "print(array1)\n",
    "a,b,c,d,e=np.hsplit(array1,5)\n",
    "print(a.mean())\n",
    "print(b.mean())\n",
    "print(c.mean())\n",
    "print(d.mean())\n",
    "print(e.mean())"
   ]
  }
 ],
 "metadata": {
  "kernelspec": {
   "display_name": "Python 3 (ipykernel)",
   "language": "python",
   "name": "python3"
  },
  "language_info": {
   "codemirror_mode": {
    "name": "ipython",
    "version": 3
   },
   "file_extension": ".py",
   "mimetype": "text/x-python",
   "name": "python",
   "nbconvert_exporter": "python",
   "pygments_lexer": "ipython3",
   "version": "3.9.13"
  }
 },
 "nbformat": 4,
 "nbformat_minor": 5
}
